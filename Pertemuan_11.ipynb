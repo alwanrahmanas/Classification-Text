{
  "nbformat": 4,
  "nbformat_minor": 0,
  "metadata": {
    "colab": {
      "provenance": [],
      "collapsed_sections": []
    },
    "kernelspec": {
      "name": "python3",
      "display_name": "Python 3"
    },
    "language_info": {
      "name": "python"
    },
    "accelerator": "GPU",
    "gpuClass": "standard"
  },
  "cells": [
    {
      "cell_type": "code",
      "source": [
        "pip install sastrawi"
      ],
      "metadata": {
        "colab": {
          "base_uri": "https://localhost:8080/"
        },
        "id": "I4mc_uHcU7lH",
        "outputId": "ef280f11-ec37-4b0b-e603-031630bf82a9"
      },
      "execution_count": null,
      "outputs": [
        {
          "output_type": "stream",
          "name": "stdout",
          "text": [
            "Looking in indexes: https://pypi.org/simple, https://us-python.pkg.dev/colab-wheels/public/simple/\n",
            "Collecting sastrawi\n",
            "  Downloading Sastrawi-1.0.1-py2.py3-none-any.whl (209 kB)\n",
            "\u001b[K     |████████████████████████████████| 209 kB 14.6 MB/s \n",
            "\u001b[?25hInstalling collected packages: sastrawi\n",
            "Successfully installed sastrawi-1.0.1\n"
          ]
        }
      ]
    },
    {
      "cell_type": "code",
      "execution_count": null,
      "metadata": {
        "colab": {
          "base_uri": "https://localhost:8080/"
        },
        "id": "i0V4lRAViY2q",
        "outputId": "6d25defc-4b00-43e7-bd9f-86dd9db990ed"
      },
      "outputs": [
        {
          "output_type": "stream",
          "name": "stderr",
          "text": [
            "[nltk_data] Downloading package punkt to /root/nltk_data...\n",
            "[nltk_data]   Unzipping tokenizers/punkt.zip.\n",
            "[nltk_data] Downloading package omw-1.4 to /root/nltk_data...\n",
            "[nltk_data] Downloading package averaged_perceptron_tagger to\n",
            "[nltk_data]     /root/nltk_data...\n",
            "[nltk_data]   Unzipping taggers/averaged_perceptron_tagger.zip.\n",
            "[nltk_data] Downloading package wordnet to /root/nltk_data...\n",
            "[nltk_data] Downloading package stopwords to /root/nltk_data...\n",
            "[nltk_data]   Unzipping corpora/stopwords.zip.\n"
          ]
        }
      ],
      "source": [
        "### 1. Tahap Persiapan\n",
        "#Import package/library yang diperlukan\n",
        "\n",
        "import pandas as pd\n",
        "import numpy as np\n",
        "import seaborn as sns\n",
        "import matplotlib.pyplot as plt\n",
        "# untuk pre-processing teks\n",
        "import re, string\n",
        "import nltk\n",
        "from nltk.tokenize import word_tokenize\n",
        "from nltk.corpus import stopwords\n",
        "from nltk.tokenize import word_tokenize\n",
        "from nltk.stem import SnowballStemmer\n",
        "from nltk.corpus import wordnet\n",
        "from nltk.stem import WordNetLemmatizer\n",
        "nltk.download('punkt')\n",
        "nltk.download('omw-1.4')\n",
        "nltk.download('averaged_perceptron_tagger')\n",
        "nltk.download('wordnet')\n",
        "nltk.download('stopwords')\n",
        "#untuk pembangunan model\n",
        "from sklearn.model_selection import train_test_split\n",
        "from sklearn.linear_model import LogisticRegression\n",
        "from sklearn.linear_model import SGDClassifier\n",
        "from sklearn.naive_bayes import MultinomialNB\n",
        "from sklearn.metrics import classification_report, f1_score, accuracy_score, confusion_matrix\n",
        "from sklearn.metrics import roc_curve, auc, roc_auc_score\n",
        "# bag of words\n",
        "from sklearn.feature_extraction.text  import TfidfVectorizer\n",
        "from sklearn.feature_extraction.text  import CountVectorizer\n",
        "# untuk word embedding\n",
        "import gensim\n",
        "from gensim.models import Word2Vec #Word2Vec is mostly used for huge datasets"
      ]
    },
    {
      "cell_type": "code",
      "source": [
        "url = 'https://raw.githubusercontent.com/indolem/indolem/main/sentiment/data/train0.csv'\n",
        "df = pd.read_csv(url, error_bad_lines=False)\n",
        "df_train=df\n",
        "url2 = 'https://raw.githubusercontent.com/indolem/indolem/main/sentiment/data/test0.csv'\n",
        "df_test = pd.read_csv(url2, error_bad_lines=False)"
      ],
      "metadata": {
        "colab": {
          "base_uri": "https://localhost:8080/"
        },
        "id": "0pjdsgJciizO",
        "outputId": "cff6ff9b-0f1d-4952-daf4-9d7eb0850c9b"
      },
      "execution_count": null,
      "outputs": [
        {
          "output_type": "stream",
          "name": "stderr",
          "text": [
            "/usr/local/lib/python3.7/dist-packages/IPython/core/interactiveshell.py:3326: FutureWarning: The error_bad_lines argument has been deprecated and will be removed in a future version.\n",
            "\n",
            "\n",
            "  exec(code_obj, self.user_global_ns, self.user_ns)\n"
          ]
        }
      ]
    },
    {
      "cell_type": "code",
      "source": [
        "#pake preprocess aja\n",
        "\n",
        "df_train\n",
        "#df_test.head()"
      ],
      "metadata": {
        "colab": {
          "base_uri": "https://localhost:8080/",
          "height": 424
        },
        "id": "jtjccrZRi87a",
        "outputId": "02cba973-3074-4aaa-be63-cb78a01323de"
      },
      "execution_count": null,
      "outputs": [
        {
          "output_type": "execute_result",
          "data": {
            "text/plain": [
              "                                               sentence  sentiment\n",
              "0     Kangen NaBil @RealSyahnazS @bangbily RaGa @Raf...          1\n",
              "1     Doa utk orang yg mberi makan: Ya Allah! Berila...          1\n",
              "2     Setiap kali HP aku bunyi, aku selalu berharap ...          1\n",
              "3     Belum pernah sedekat ini wawancara dgn Afgan S...          1\n",
              "4     Dulu masa first pergi award show amatlah malas...          1\n",
              "...                                                 ...        ...\n",
              "3633  linen nya terasa agak gatal... mungkin kurang ...          0\n",
              "3634  Didaskaleinophobia adalah takut akan pergi ke ...          0\n",
              "3635  Iklan partai Demokrat Katakan Tidak Pada Korup...          0\n",
              "3636        Tempat tidurnya nyaman toilet kurang bersih          0\n",
              "3637  Cari Anggota Baru, Geng Motor Sebar Formulir k...          0\n",
              "\n",
              "[3638 rows x 2 columns]"
            ],
            "text/html": [
              "\n",
              "  <div id=\"df-38a90f49-2258-47e0-8e65-2c0282829315\">\n",
              "    <div class=\"colab-df-container\">\n",
              "      <div>\n",
              "<style scoped>\n",
              "    .dataframe tbody tr th:only-of-type {\n",
              "        vertical-align: middle;\n",
              "    }\n",
              "\n",
              "    .dataframe tbody tr th {\n",
              "        vertical-align: top;\n",
              "    }\n",
              "\n",
              "    .dataframe thead th {\n",
              "        text-align: right;\n",
              "    }\n",
              "</style>\n",
              "<table border=\"1\" class=\"dataframe\">\n",
              "  <thead>\n",
              "    <tr style=\"text-align: right;\">\n",
              "      <th></th>\n",
              "      <th>sentence</th>\n",
              "      <th>sentiment</th>\n",
              "    </tr>\n",
              "  </thead>\n",
              "  <tbody>\n",
              "    <tr>\n",
              "      <th>0</th>\n",
              "      <td>Kangen NaBil @RealSyahnazS @bangbily RaGa @Raf...</td>\n",
              "      <td>1</td>\n",
              "    </tr>\n",
              "    <tr>\n",
              "      <th>1</th>\n",
              "      <td>Doa utk orang yg mberi makan: Ya Allah! Berila...</td>\n",
              "      <td>1</td>\n",
              "    </tr>\n",
              "    <tr>\n",
              "      <th>2</th>\n",
              "      <td>Setiap kali HP aku bunyi, aku selalu berharap ...</td>\n",
              "      <td>1</td>\n",
              "    </tr>\n",
              "    <tr>\n",
              "      <th>3</th>\n",
              "      <td>Belum pernah sedekat ini wawancara dgn Afgan S...</td>\n",
              "      <td>1</td>\n",
              "    </tr>\n",
              "    <tr>\n",
              "      <th>4</th>\n",
              "      <td>Dulu masa first pergi award show amatlah malas...</td>\n",
              "      <td>1</td>\n",
              "    </tr>\n",
              "    <tr>\n",
              "      <th>...</th>\n",
              "      <td>...</td>\n",
              "      <td>...</td>\n",
              "    </tr>\n",
              "    <tr>\n",
              "      <th>3633</th>\n",
              "      <td>linen nya terasa agak gatal... mungkin kurang ...</td>\n",
              "      <td>0</td>\n",
              "    </tr>\n",
              "    <tr>\n",
              "      <th>3634</th>\n",
              "      <td>Didaskaleinophobia adalah takut akan pergi ke ...</td>\n",
              "      <td>0</td>\n",
              "    </tr>\n",
              "    <tr>\n",
              "      <th>3635</th>\n",
              "      <td>Iklan partai Demokrat Katakan Tidak Pada Korup...</td>\n",
              "      <td>0</td>\n",
              "    </tr>\n",
              "    <tr>\n",
              "      <th>3636</th>\n",
              "      <td>Tempat tidurnya nyaman toilet kurang bersih</td>\n",
              "      <td>0</td>\n",
              "    </tr>\n",
              "    <tr>\n",
              "      <th>3637</th>\n",
              "      <td>Cari Anggota Baru, Geng Motor Sebar Formulir k...</td>\n",
              "      <td>0</td>\n",
              "    </tr>\n",
              "  </tbody>\n",
              "</table>\n",
              "<p>3638 rows × 2 columns</p>\n",
              "</div>\n",
              "      <button class=\"colab-df-convert\" onclick=\"convertToInteractive('df-38a90f49-2258-47e0-8e65-2c0282829315')\"\n",
              "              title=\"Convert this dataframe to an interactive table.\"\n",
              "              style=\"display:none;\">\n",
              "        \n",
              "  <svg xmlns=\"http://www.w3.org/2000/svg\" height=\"24px\"viewBox=\"0 0 24 24\"\n",
              "       width=\"24px\">\n",
              "    <path d=\"M0 0h24v24H0V0z\" fill=\"none\"/>\n",
              "    <path d=\"M18.56 5.44l.94 2.06.94-2.06 2.06-.94-2.06-.94-.94-2.06-.94 2.06-2.06.94zm-11 1L8.5 8.5l.94-2.06 2.06-.94-2.06-.94L8.5 2.5l-.94 2.06-2.06.94zm10 10l.94 2.06.94-2.06 2.06-.94-2.06-.94-.94-2.06-.94 2.06-2.06.94z\"/><path d=\"M17.41 7.96l-1.37-1.37c-.4-.4-.92-.59-1.43-.59-.52 0-1.04.2-1.43.59L10.3 9.45l-7.72 7.72c-.78.78-.78 2.05 0 2.83L4 21.41c.39.39.9.59 1.41.59.51 0 1.02-.2 1.41-.59l7.78-7.78 2.81-2.81c.8-.78.8-2.07 0-2.86zM5.41 20L4 18.59l7.72-7.72 1.47 1.35L5.41 20z\"/>\n",
              "  </svg>\n",
              "      </button>\n",
              "      \n",
              "  <style>\n",
              "    .colab-df-container {\n",
              "      display:flex;\n",
              "      flex-wrap:wrap;\n",
              "      gap: 12px;\n",
              "    }\n",
              "\n",
              "    .colab-df-convert {\n",
              "      background-color: #E8F0FE;\n",
              "      border: none;\n",
              "      border-radius: 50%;\n",
              "      cursor: pointer;\n",
              "      display: none;\n",
              "      fill: #1967D2;\n",
              "      height: 32px;\n",
              "      padding: 0 0 0 0;\n",
              "      width: 32px;\n",
              "    }\n",
              "\n",
              "    .colab-df-convert:hover {\n",
              "      background-color: #E2EBFA;\n",
              "      box-shadow: 0px 1px 2px rgba(60, 64, 67, 0.3), 0px 1px 3px 1px rgba(60, 64, 67, 0.15);\n",
              "      fill: #174EA6;\n",
              "    }\n",
              "\n",
              "    [theme=dark] .colab-df-convert {\n",
              "      background-color: #3B4455;\n",
              "      fill: #D2E3FC;\n",
              "    }\n",
              "\n",
              "    [theme=dark] .colab-df-convert:hover {\n",
              "      background-color: #434B5C;\n",
              "      box-shadow: 0px 1px 3px 1px rgba(0, 0, 0, 0.15);\n",
              "      filter: drop-shadow(0px 1px 2px rgba(0, 0, 0, 0.3));\n",
              "      fill: #FFFFFF;\n",
              "    }\n",
              "  </style>\n",
              "\n",
              "      <script>\n",
              "        const buttonEl =\n",
              "          document.querySelector('#df-38a90f49-2258-47e0-8e65-2c0282829315 button.colab-df-convert');\n",
              "        buttonEl.style.display =\n",
              "          google.colab.kernel.accessAllowed ? 'block' : 'none';\n",
              "\n",
              "        async function convertToInteractive(key) {\n",
              "          const element = document.querySelector('#df-38a90f49-2258-47e0-8e65-2c0282829315');\n",
              "          const dataTable =\n",
              "            await google.colab.kernel.invokeFunction('convertToInteractive',\n",
              "                                                     [key], {});\n",
              "          if (!dataTable) return;\n",
              "\n",
              "          const docLinkHtml = 'Like what you see? Visit the ' +\n",
              "            '<a target=\"_blank\" href=https://colab.research.google.com/notebooks/data_table.ipynb>data table notebook</a>'\n",
              "            + ' to learn more about interactive tables.';\n",
              "          element.innerHTML = '';\n",
              "          dataTable['output_type'] = 'display_data';\n",
              "          await google.colab.output.renderOutput(dataTable, element);\n",
              "          const docLink = document.createElement('div');\n",
              "          docLink.innerHTML = docLinkHtml;\n",
              "          element.appendChild(docLink);\n",
              "        }\n",
              "      </script>\n",
              "    </div>\n",
              "  </div>\n",
              "  "
            ]
          },
          "metadata": {},
          "execution_count": 6
        }
      ]
    },
    {
      "cell_type": "markdown",
      "source": [
        "**B. Analisis Data Eksploratif**\n",
        "\n",
        "Pada tahap eksplorasi data (Exploratory Data Analysis/EDA) ini, kita akan mencoba untuk \n",
        "melihat distribusi kelas, pengecekan missing data, penghitungan jumlah kata, karakter, dan visualisasi \n",
        "data"
      ],
      "metadata": {
        "id": "oL7IeRz-kKLh"
      }
    },
    {
      "cell_type": "code",
      "source": [
        "#CLASS DISTRIBUTION\n",
        "# mengecek apakah dataset yang digunakan balance atau tidak\n",
        "x=df_train['sentiment'].value_counts()\n",
        "print(x)\n",
        "sns.barplot(x.index,x)"
      ],
      "metadata": {
        "colab": {
          "base_uri": "https://localhost:8080/",
          "height": 389
        },
        "id": "e8DBi0lUkAw7",
        "outputId": "7c5b32bd-4221-4ae6-cb88-20f42c6efc9d"
      },
      "execution_count": null,
      "outputs": [
        {
          "output_type": "stream",
          "name": "stdout",
          "text": [
            "0    2567\n",
            "1    1071\n",
            "Name: sentiment, dtype: int64\n"
          ]
        },
        {
          "output_type": "stream",
          "name": "stderr",
          "text": [
            "/usr/local/lib/python3.7/dist-packages/seaborn/_decorators.py:43: FutureWarning: Pass the following variables as keyword args: x, y. From version 0.12, the only valid positional argument will be `data`, and passing other arguments without an explicit keyword will result in an error or misinterpretation.\n",
            "  FutureWarning\n"
          ]
        },
        {
          "output_type": "execute_result",
          "data": {
            "text/plain": [
              "<matplotlib.axes._subplots.AxesSubplot at 0x7fadd1723450>"
            ]
          },
          "metadata": {},
          "execution_count": 7
        },
        {
          "output_type": "display_data",
          "data": {
            "text/plain": [
              "<Figure size 432x288 with 1 Axes>"
            ],
            "image/png": "[encoded data removed]"
          },
          "metadata": {
            "needs_background": "light"
          }
        }
      ]
    },
    {
      "cell_type": "code",
      "source": [
        "#memeriksa missing value\n",
        "df_train.isna().sum()"
      ],
      "metadata": {
        "colab": {
          "base_uri": "https://localhost:8080/"
        },
        "id": "Arw-AO09krIA",
        "outputId": "bb7a5e91-10f2-4d9e-da14-b41683b8cb96"
      },
      "execution_count": null,
      "outputs": [
        {
          "output_type": "execute_result",
          "data": {
            "text/plain": [
              "sentence     0\n",
              "sentiment    0\n",
              "dtype: int64"
            ]
          },
          "metadata": {},
          "execution_count": 8
        }
      ]
    },
    {
      "cell_type": "code",
      "source": [
        "#1. WORD-COUNT\n",
        "df_train['word_count'] = df_train['sentence'].apply(lambda x:  len(str(x).split()))\n",
        "print(df_train[df_train['sentiment']==1]['word_count'].mean()) #Positive\n",
        "print(df_train[df_train['sentiment']==0]['word_count'].mean()) #Negative\n",
        "#2. CHARACTER-COUNT\n",
        "df_train['char_count'] = df_train['sentence'].apply(lambda x: len(str(x)))\n",
        "print(df_train[df_train['sentiment']==1]['char_count'].mean()) #Positive\n",
        "print(df_train[df_train['sentiment']==0]['char_count'].mean()) #Negative\n",
        "#3. UNIQUE WORD-COUNT\n",
        "df_train['unique_word_count'] = df_train['sentence'].apply(lambda x: \n",
        "len(set(str(x).split())))\n",
        "print(df_train[df_train['sentiment']==1]['unique_word_count'].mean()) \n",
        "#Positive\n",
        "print(df_train[df_train['sentiment']==0]['unique_word_count'].mean()) \n",
        "#Negative\n"
      ],
      "metadata": {
        "colab": {
          "base_uri": "https://localhost:8080/"
        },
        "id": "grnaQ3cKk3PS",
        "outputId": "5829339a-c603-47c6-af0a-d5eac36050f3"
      },
      "execution_count": null,
      "outputs": [
        {
          "output_type": "stream",
          "name": "stdout",
          "text": [
            "16.985060690943044\n",
            "16.684456564082588\n",
            "121.1484593837535\n",
            "111.01051811453058\n",
            "16.166199813258636\n",
            "15.502532138683287\n"
          ]
        }
      ]
    },
    {
      "cell_type": "code",
      "source": [
        "# Plotting word-count per tweet\n",
        "fig,(ax1,ax2)=plt.subplots(1,2,figsize=(10,4))\n",
        "train_words=df_train[df_train['sentiment']==1]['word_count']\n",
        "ax1.hist(train_words,color='green')\n",
        "ax1.set_title('Positive tweets')\n",
        "train_words=df_train[df_train['sentiment']==0]['word_count']\n",
        "ax2.hist(train_words,color='red')\n",
        "ax2.set_title('Negative tweets')\n",
        "fig.suptitle('Words per tweet')\n",
        "plt.show()\n"
      ],
      "metadata": {
        "colab": {
          "base_uri": "https://localhost:8080/",
          "height": 294
        },
        "id": "BbE0EpWHlB-q",
        "outputId": "dc891380-dd1e-4c8c-8bfb-0ce430c38178"
      },
      "execution_count": null,
      "outputs": [
        {
          "output_type": "display_data",
          "data": {
            "text/plain": [
              "<Figure size 720x288 with 2 Axes>"
            ],
            "image/png": "[encoded data removed]"
          },
          "metadata": {
            "needs_background": "light"
          }
        }
      ]
    },
    {
      "cell_type": "markdown",
      "source": [
        "**C. Teks Pre-processing**\n",
        "\n",
        "Pada tahap ini, Anda akan melakukan beberapa teknik pre-processing teks sebelum melakukan \n",
        "pemodelan. Anda dapat menambahkan atau mengurangi tahapan pre-processing yang dirasa perlu \n",
        "berdasarkan sumber data teks yang digunakan."
      ],
      "metadata": {
        "id": "M_6jJyUMlazp"
      }
    },
    {
      "cell_type": "code",
      "source": [
        "#1. Common text preprocessing\n",
        "text = \" This is a message to be cleaned. It may involve some things like: <br>, ?, :, '' adjacent spaces and tabs . \"\n",
        "# mengubah ke huruf kecil (lowercase) dan menghapus tanda baca, karakter aneh dan strip\n",
        "def preprocess(text):\n",
        " text = text.lower() #lowercase text\n",
        " text=text.strip() #Menghapus leading/trailing whitespace\n",
        " text = re.sub('@[^\\s]+','atUser',text) #mengubah @user menjadi atUser\n",
        " text = re.sub(r'#([^\\s]+)', r'\\1', text) #menghapus hashtag di depan suatu kata\n",
        " text=re.compile('<.*?>').sub('', text) #Menghapus HTML tags/markups\n",
        " text = re.compile('[%s]' % re.escape(string.punctuation)).sub(' ', text) #Replace punctuation with space. Careful since punctuation can sometime be useful\n",
        " text = re.sub('\\s+', ' ', text) #Menghapus extra space dan tabs\n",
        " text = re.sub(r'\\[[0-9]*\\]',' ',text) #[0-9] matches any digit (0 to 10000...)\n",
        " text=re.sub(r'[^\\w\\s]', '', str(text).lower().strip())\n",
        " text = re.sub(r'\\d',' ',text) #matches any digit from 0 to 100000..., \\D matches non-digits\n",
        " text = re.sub(r'\\s+',' ',text) #\\s matches any whitespace, \\s+ matches multiple whitespace, \\S matches non-whitespace\n",
        "\n",
        " return text\n",
        "\n",
        "#1. STOPWORD ELIMINATION\n",
        "from spacy.lang.id import Indonesian\n",
        "import spacy\n",
        "def stopword_elim(text):\n",
        "  nlp = Indonesian() # use directly\n",
        "  nlp = spacy.blank('id') # blank instance'\n",
        "  stopwords = nlp.Defaults.stop_words\n",
        "  tokens = tokenisasi(text)\n",
        "  tokens_nostopword = [w for w in tokens if not w in stopwords]\n",
        "  return (\" \").join(tokens_nostopword)\n",
        "#2. STEMMING\n",
        "from Sastrawi.Stemmer.StemmerFactory import StemmerFactory\n",
        "def stemming(text):\n",
        "  # create stemmer\n",
        "  factory = StemmerFactory()\n",
        "  stemmer = factory.create_stemmer()\n",
        "  # stemming process\n",
        "  output = stemmer.stem(text)\n",
        "  return output\n",
        "def stemming_sentence(text):\n",
        "  output = \"\"\n",
        "  for token in tokenisasi(text):\n",
        "    output = output + stemming(token) + \" \"\n",
        "  return output[:-1]\n",
        "\n",
        "# Tokenisasi kalimat\n",
        "def tokenisasi(text):\n",
        "    tokens = text.split(\" \")\n",
        "    return tokens\n",
        "\n",
        "\n"
      ],
      "metadata": {
        "id": "myEOCR_XlLEH"
      },
      "execution_count": null,
      "outputs": []
    },
    {
      "cell_type": "code",
      "source": [
        "#FINAL PREPROCESSING\n",
        "def finalpreprocess(string):\n",
        "    return preprocess(string)"
      ],
      "metadata": {
        "id": "rsIRYV5YmYsr"
      },
      "execution_count": null,
      "outputs": []
    },
    {
      "cell_type": "code",
      "source": [
        "df_train['clean_text'] = df_train['sentence'].apply(lambda x: finalpreprocess(x))\n",
        "df_train=df_train.drop(columns=['word_count','char_count','unique_word_count'])\n",
        "df_test['clean_text'] = df_test['sentence'].apply(lambda x: finalpreprocess(x))\n",
        "df_train.head()\n",
        "\n"
      ],
      "metadata": {
        "id": "uPvW89vTl1mF",
        "colab": {
          "base_uri": "https://localhost:8080/",
          "height": 206
        },
        "outputId": "ba6e736e-bbdf-4505-e94c-590ec95234f7"
      },
      "execution_count": null,
      "outputs": [
        {
          "output_type": "execute_result",
          "data": {
            "text/plain": [
              "                                            sentence  sentiment  \\\n",
              "0  Kangen NaBil @RealSyahnazS @bangbily RaGa @Raf...          1   \n",
              "1  Doa utk orang yg mberi makan: Ya Allah! Berila...          1   \n",
              "2  Setiap kali HP aku bunyi, aku selalu berharap ...          1   \n",
              "3  Belum pernah sedekat ini wawancara dgn Afgan S...          1   \n",
              "4  Dulu masa first pergi award show amatlah malas...          1   \n",
              "\n",
              "                                          clean_text  \n",
              "0  kangen nabil atuser atuser raga atuser atuser ...  \n",
              "1  doa utk orang yg mberi makan ya allah berilah ...  \n",
              "2  setiap kali hp aku bunyi aku selalu berharap i...  \n",
              "3  belum pernah sedekat ini wawancara dgn afgan s...  \n",
              "4  dulu masa first pergi award show amatlah malas...  "
            ],
            "text/html": [
              "\n",
              "  <div id=\"df-5a93fc9a-65d6-44fa-b2ef-3a17855115a4\">\n",
              "    <div class=\"colab-df-container\">\n",
              "      <div>\n",
              "<style scoped>\n",
              "    .dataframe tbody tr th:only-of-type {\n",
              "        vertical-align: middle;\n",
              "    }\n",
              "\n",
              "    .dataframe tbody tr th {\n",
              "        vertical-align: top;\n",
              "    }\n",
              "\n",
              "    .dataframe thead th {\n",
              "        text-align: right;\n",
              "    }\n",
              "</style>\n",
              "<table border=\"1\" class=\"dataframe\">\n",
              "  <thead>\n",
              "    <tr style=\"text-align: right;\">\n",
              "      <th></th>\n",
              "      <th>sentence</th>\n",
              "      <th>sentiment</th>\n",
              "      <th>clean_text</th>\n",
              "    </tr>\n",
              "  </thead>\n",
              "  <tbody>\n",
              "    <tr>\n",
              "      <th>0</th>\n",
              "      <td>Kangen NaBil @RealSyahnazS @bangbily RaGa @Raf...</td>\n",
              "      <td>1</td>\n",
              "      <td>kangen nabil atuser atuser raga atuser atuser ...</td>\n",
              "    </tr>\n",
              "    <tr>\n",
              "      <th>1</th>\n",
              "      <td>Doa utk orang yg mberi makan: Ya Allah! Berila...</td>\n",
              "      <td>1</td>\n",
              "      <td>doa utk orang yg mberi makan ya allah berilah ...</td>\n",
              "    </tr>\n",
              "    <tr>\n",
              "      <th>2</th>\n",
              "      <td>Setiap kali HP aku bunyi, aku selalu berharap ...</td>\n",
              "      <td>1</td>\n",
              "      <td>setiap kali hp aku bunyi aku selalu berharap i...</td>\n",
              "    </tr>\n",
              "    <tr>\n",
              "      <th>3</th>\n",
              "      <td>Belum pernah sedekat ini wawancara dgn Afgan S...</td>\n",
              "      <td>1</td>\n",
              "      <td>belum pernah sedekat ini wawancara dgn afgan s...</td>\n",
              "    </tr>\n",
              "    <tr>\n",
              "      <th>4</th>\n",
              "      <td>Dulu masa first pergi award show amatlah malas...</td>\n",
              "      <td>1</td>\n",
              "      <td>dulu masa first pergi award show amatlah malas...</td>\n",
              "    </tr>\n",
              "  </tbody>\n",
              "</table>\n",
              "</div>\n",
              "      <button class=\"colab-df-convert\" onclick=\"convertToInteractive('df-5a93fc9a-65d6-44fa-b2ef-3a17855115a4')\"\n",
              "              title=\"Convert this dataframe to an interactive table.\"\n",
              "              style=\"display:none;\">\n",
              "        \n",
              "  <svg xmlns=\"http://www.w3.org/2000/svg\" height=\"24px\"viewBox=\"0 0 24 24\"\n",
              "       width=\"24px\">\n",
              "    <path d=\"M0 0h24v24H0V0z\" fill=\"none\"/>\n",
              "    <path d=\"M18.56 5.44l.94 2.06.94-2.06 2.06-.94-2.06-.94-.94-2.06-.94 2.06-2.06.94zm-11 1L8.5 8.5l.94-2.06 2.06-.94-2.06-.94L8.5 2.5l-.94 2.06-2.06.94zm10 10l.94 2.06.94-2.06 2.06-.94-2.06-.94-.94-2.06-.94 2.06-2.06.94z\"/><path d=\"M17.41 7.96l-1.37-1.37c-.4-.4-.92-.59-1.43-.59-.52 0-1.04.2-1.43.59L10.3 9.45l-7.72 7.72c-.78.78-.78 2.05 0 2.83L4 21.41c.39.39.9.59 1.41.59.51 0 1.02-.2 1.41-.59l7.78-7.78 2.81-2.81c.8-.78.8-2.07 0-2.86zM5.41 20L4 18.59l7.72-7.72 1.47 1.35L5.41 20z\"/>\n",
              "  </svg>\n",
              "      </button>\n",
              "      \n",
              "  <style>\n",
              "    .colab-df-container {\n",
              "      display:flex;\n",
              "      flex-wrap:wrap;\n",
              "      gap: 12px;\n",
              "    }\n",
              "\n",
              "    .colab-df-convert {\n",
              "      background-color: #E8F0FE;\n",
              "      border: none;\n",
              "      border-radius: 50%;\n",
              "      cursor: pointer;\n",
              "      display: none;\n",
              "      fill: #1967D2;\n",
              "      height: 32px;\n",
              "      padding: 0 0 0 0;\n",
              "      width: 32px;\n",
              "    }\n",
              "\n",
              "    .colab-df-convert:hover {\n",
              "      background-color: #E2EBFA;\n",
              "      box-shadow: 0px 1px 2px rgba(60, 64, 67, 0.3), 0px 1px 3px 1px rgba(60, 64, 67, 0.15);\n",
              "      fill: #174EA6;\n",
              "    }\n",
              "\n",
              "    [theme=dark] .colab-df-convert {\n",
              "      background-color: #3B4455;\n",
              "      fill: #D2E3FC;\n",
              "    }\n",
              "\n",
              "    [theme=dark] .colab-df-convert:hover {\n",
              "      background-color: #434B5C;\n",
              "      box-shadow: 0px 1px 3px 1px rgba(0, 0, 0, 0.15);\n",
              "      filter: drop-shadow(0px 1px 2px rgba(0, 0, 0, 0.3));\n",
              "      fill: #FFFFFF;\n",
              "    }\n",
              "  </style>\n",
              "\n",
              "      <script>\n",
              "        const buttonEl =\n",
              "          document.querySelector('#df-5a93fc9a-65d6-44fa-b2ef-3a17855115a4 button.colab-df-convert');\n",
              "        buttonEl.style.display =\n",
              "          google.colab.kernel.accessAllowed ? 'block' : 'none';\n",
              "\n",
              "        async function convertToInteractive(key) {\n",
              "          const element = document.querySelector('#df-5a93fc9a-65d6-44fa-b2ef-3a17855115a4');\n",
              "          const dataTable =\n",
              "            await google.colab.kernel.invokeFunction('convertToInteractive',\n",
              "                                                     [key], {});\n",
              "          if (!dataTable) return;\n",
              "\n",
              "          const docLinkHtml = 'Like what you see? Visit the ' +\n",
              "            '<a target=\"_blank\" href=https://colab.research.google.com/notebooks/data_table.ipynb>data table notebook</a>'\n",
              "            + ' to learn more about interactive tables.';\n",
              "          element.innerHTML = '';\n",
              "          dataTable['output_type'] = 'display_data';\n",
              "          await google.colab.output.renderOutput(dataTable, element);\n",
              "          const docLink = document.createElement('div');\n",
              "          docLink.innerHTML = docLinkHtml;\n",
              "          element.appendChild(docLink);\n",
              "        }\n",
              "      </script>\n",
              "    </div>\n",
              "  </div>\n",
              "  "
            ]
          },
          "metadata": {},
          "execution_count": 13
        }
      ]
    },
    {
      "cell_type": "markdown",
      "source": [
        "**D. Ekstraksi Feature dari Data Teks**\n",
        "\n",
        "Salah satu feature dari data teks yang dapat digunakan yaitu dalam bentuk vektor dari bag of word \n",
        "dengan menggunakan bobot TF.IDF. Gunakan kode di bawah ini untuk mendapatkan vektor TF.IDF \n",
        "dari sekumpulan input teks.\n"
      ],
      "metadata": {
        "id": "4VPPJPABnHov"
      }
    },
    {
      "cell_type": "code",
      "source": [
        "X_train = df_train['clean_text']\n",
        "y_train = df_train['sentiment']\n",
        "X_test = df_test['clean_text']\n",
        "y_test = df_test['sentiment']\n",
        "# TF-IDF\n",
        "# Konversi x_train ke vector karena model hanya dapat memproses angka, bukan  kata/karakter\n",
        "tfidf_vectorizer = TfidfVectorizer(use_idf=True)\n",
        "X_train_vectors_tfidf = tfidf_vectorizer.fit_transform(X_train) \n",
        "# tfidf digunakan pada kalimat yang belum ditokenisasi, berbeda dengan word2vec\n",
        "# Hanya men-transform x_test (bukan fit dan transform)\n",
        "X_test_vectors_tfidf = tfidf_vectorizer.transform(X_test) \n",
        "# Jangan melakukan fungsi fit() TfidfVectorizer ke data testing karena hal itu akan\n",
        "# mengubah indeks kata & bobot sehingga sesuai dengan data testing. Sebaliknya, lakukan \n",
        "# fungsi fit pada data training, lalu gunakan hasil model pada data training tadi pada \n",
        "# data testing untuk menunjukkan fakta bahwa Anda menganalisis data testing hanya \n",
        "# berdasarkan apa yang dipelajari tanpa melihat data testing itu sendiri sebelumnya."
      ],
      "metadata": {
        "id": "GOP0PsH0m8Ye"
      },
      "execution_count": null,
      "outputs": []
    },
    {
      "cell_type": "markdown",
      "source": [
        "**E. Pembangunan Model Klasifikasi Teks dengan Naive Bayes**\n",
        "\n",
        "Naive Bayes merupakan model klasifikasi probabilistik berdasarkan Teorema Bayes, yang \n",
        "menggunakan probabilitas untuk membuat prediksi berdasarkan pengetahuan sebelumnya tentang \n",
        "kondisi yang mungkin terkait. Algoritma ini paling cocok untuk kumpulan data besar karena \n",
        "mempertimbangkan setiap fitur secara independen, menghitung probabilitas setiap kategori, dan \n",
        "kemudian memprediksi kategori dengan probabilitas tertinggi"
      ],
      "metadata": {
        "id": "f-WVOyflnvPv"
      }
    },
    {
      "cell_type": "code",
      "source": [
        "nb_tfidf = MultinomialNB()\n",
        "nb_tfidf.fit(X_train_vectors_tfidf, y_train) #model\n",
        "#Melakukan prediksi nilai y pada dataset testing\n",
        "y_predict_bayes = nb_tfidf.predict(X_test_vectors_tfidf)\n",
        "y_prob = nb_tfidf.predict_proba(X_test_vectors_tfidf)[:,1]\n"
      ],
      "metadata": {
        "id": "gGYOJS0RnhkN"
      },
      "execution_count": null,
      "outputs": []
    },
    {
      "cell_type": "markdown",
      "source": [
        "**F. Evaluasi Model Klasifikasi**\n",
        "\n",
        "Evaluasi dari model klasifikasi dapat dilakukan dengan kode berikut"
      ],
      "metadata": {
        "id": "25zSV-wIn5dv"
      }
    },
    {
      "cell_type": "code",
      "source": [
        "print(classification_report(y_test,y_predict_bayes))\n",
        "print('Confusion Matrix:',confusion_matrix(y_test, y_predict_bayes))"
      ],
      "metadata": {
        "id": "Pmr8SBpin1rz",
        "colab": {
          "base_uri": "https://localhost:8080/"
        },
        "outputId": "cd387460-7982-4075-fdbc-d5cf1acaa4da"
      },
      "execution_count": null,
      "outputs": [
        {
          "output_type": "stream",
          "name": "stdout",
          "text": [
            "              precision    recall  f1-score   support\n",
            "\n",
            "           0       0.79      0.96      0.87       713\n",
            "           1       0.80      0.39      0.52       298\n",
            "\n",
            "    accuracy                           0.79      1011\n",
            "   macro avg       0.80      0.67      0.69      1011\n",
            "weighted avg       0.79      0.79      0.76      1011\n",
            "\n",
            "Confusion Matrix: [[685  28]\n",
            " [183 115]]\n"
          ]
        }
      ]
    },
    {
      "cell_type": "markdown",
      "source": [
        "Lanjutkan task klasifikasi teks pada modul 10 dengan menggunakan Rocchio Classification, k\n",
        "Nearest Neighbor (kNN), dan Support Vector Machine (SVM).\n",
        "\n",
        "**G. Pembangunan Model Klasifikasi Teks dengan Rocchio Classification**\n",
        "\n"
      ],
      "metadata": {
        "id": "HDY5HpeGHRpJ"
      }
    },
    {
      "cell_type": "code",
      "source": [
        "from sklearn.neighbors import NearestCentroid\n",
        "rocchio_tfidf = NearestCentroid()\n",
        "rocchio_tfidf.fit(X_train_vectors_tfidf, y_train) #model\n",
        "#klasifikasi selalu ada data x dan y\n",
        "#Melakukan prediksi nilai y pada dataset testing\n",
        "y_predict_rocchio = rocchio_tfidf.predict(X_test_vectors_tfidf) \n",
        "\n"
      ],
      "metadata": {
        "id": "qBis7jzeHWNO"
      },
      "execution_count": null,
      "outputs": []
    },
    {
      "cell_type": "code",
      "source": [
        "X_test_vectors_tfidf"
      ],
      "metadata": {
        "colab": {
          "base_uri": "https://localhost:8080/"
        },
        "id": "1WR6cuXnpplH",
        "outputId": "1ebc8580-b482-4d8d-9aa3-6c69b0520e36"
      },
      "execution_count": null,
      "outputs": [
        {
          "output_type": "execute_result",
          "data": {
            "text/plain": [
              "<1011x9644 sparse matrix of type '<class 'numpy.float64'>'\n",
              "\twith 14566 stored elements in Compressed Sparse Row format>"
            ]
          },
          "metadata": {},
          "execution_count": 18
        }
      ]
    },
    {
      "cell_type": "code",
      "source": [
        "print(classification_report(y_test,y_predict_rocchio))\n",
        "print('Confusion Matrix:',confusion_matrix(y_test, y_predict_rocchio))"
      ],
      "metadata": {
        "colab": {
          "base_uri": "https://localhost:8080/"
        },
        "id": "XmdmLcNLlrdU",
        "outputId": "c0615914-fa98-4ff7-d0e6-ba1c0a60d297"
      },
      "execution_count": null,
      "outputs": [
        {
          "output_type": "stream",
          "name": "stdout",
          "text": [
            "              precision    recall  f1-score   support\n",
            "\n",
            "           0       0.89      0.58      0.70       713\n",
            "           1       0.45      0.84      0.59       298\n",
            "\n",
            "    accuracy                           0.66      1011\n",
            "   macro avg       0.67      0.71      0.65      1011\n",
            "weighted avg       0.76      0.66      0.67      1011\n",
            "\n",
            "Confusion Matrix: [[414 299]\n",
            " [ 49 249]]\n"
          ]
        }
      ]
    },
    {
      "cell_type": "markdown",
      "source": [
        "**H. Pembangunan Model Klasifikasi Teks dengan kNN**"
      ],
      "metadata": {
        "id": "4fYpwGnxHcNV"
      }
    },
    {
      "cell_type": "code",
      "source": [
        "from sklearn.neighbors import KNeighborsClassifier\n",
        "n_neighbors=5\n",
        "knn_tfidf = KNeighborsClassifier(n_neighbors, weights='distance')\n",
        "knn_tfidf.fit(X_train_vectors_tfidf, y_train) #model\n",
        "#Melakukan prediksi nilai y pada dataset testing\n",
        "y_predict_knn = knn_tfidf.predict(X_test_vectors_tfidf)\n"
      ],
      "metadata": {
        "id": "oExZ21zZHiHl"
      },
      "execution_count": null,
      "outputs": []
    },
    {
      "cell_type": "code",
      "source": [
        "print(classification_report(y_test,y_predict_knn))\n",
        "print('Confusion Matrix:',confusion_matrix(y_test, y_predict_knn))"
      ],
      "metadata": {
        "colab": {
          "base_uri": "https://localhost:8080/"
        },
        "id": "Y8ER4bP6lwSc",
        "outputId": "6d7fe179-f3a5-41d9-ccb5-a974880a40c1"
      },
      "execution_count": null,
      "outputs": [
        {
          "output_type": "stream",
          "name": "stdout",
          "text": [
            "              precision    recall  f1-score   support\n",
            "\n",
            "           0       0.86      0.90      0.88       713\n",
            "           1       0.73      0.66      0.69       298\n",
            "\n",
            "    accuracy                           0.83      1011\n",
            "   macro avg       0.79      0.78      0.78      1011\n",
            "weighted avg       0.82      0.83      0.82      1011\n",
            "\n",
            "Confusion Matrix: [[639  74]\n",
            " [102 196]]\n"
          ]
        }
      ]
    },
    {
      "cell_type": "code",
      "source": [
        "X_train"
      ],
      "metadata": {
        "colab": {
          "base_uri": "https://localhost:8080/"
        },
        "id": "u86pMHLlJH70",
        "outputId": "625a666b-e82e-4b50-ac83-6a09d9cca03d"
      },
      "execution_count": null,
      "outputs": [
        {
          "output_type": "execute_result",
          "data": {
            "text/plain": [
              "0       kangen nabil atuser atuser raga atuser atuser ...\n",
              "1       doa utk orang yg mberi makan ya allah berilah ...\n",
              "2       setiap kali hp aku bunyi aku selalu berharap i...\n",
              "3       belum pernah sedekat ini wawancara dgn afgan s...\n",
              "4       dulu masa first pergi award show amatlah malas...\n",
              "                              ...                        \n",
              "3633    linen nya terasa agak gatal mungkin kurang ber...\n",
              "3634    didaskaleinophobia adalah takut akan pergi ke ...\n",
              "3635    iklan partai demokrat katakan tidak pada korup...\n",
              "3636          tempat tidurnya nyaman toilet kurang bersih\n",
              "3637    cari anggota baru geng motor sebar formulir ke...\n",
              "Name: clean_text, Length: 3638, dtype: object"
            ]
          },
          "metadata": {},
          "execution_count": 22
        }
      ]
    },
    {
      "cell_type": "markdown",
      "source": [
        "**I. Pembangunan Model Klasifikasi Teks dengan SVM**\n"
      ],
      "metadata": {
        "id": "o98UvdqjHo5a"
      }
    },
    {
      "cell_type": "code",
      "source": [
        "from sklearn import svm\n",
        "svm_tfidf = svm.SVC(C=1.0, kernel='linear', degree=3, gamma='auto')\n",
        "svm_tfidf.fit(X_train_vectors_tfidf, y_train) #model\n",
        "#Melakukan prediksi nilai y pada dataset testing\n",
        "y_predict_svm = svm_tfidf.predict(X_test_vectors_tfidf)\n"
      ],
      "metadata": {
        "id": "AR1lpgPHHrs5"
      },
      "execution_count": null,
      "outputs": []
    },
    {
      "cell_type": "code",
      "source": [
        "print(classification_report(y_test,y_predict_svm))\n",
        "print('Confusion Matrix:',confusion_matrix(y_test, y_predict_svm))"
      ],
      "metadata": {
        "colab": {
          "base_uri": "https://localhost:8080/"
        },
        "id": "xw4o06nym6py",
        "outputId": "fe8159c3-280b-4106-caae-a8b331552206"
      },
      "execution_count": null,
      "outputs": [
        {
          "output_type": "stream",
          "name": "stdout",
          "text": [
            "              precision    recall  f1-score   support\n",
            "\n",
            "           0       0.88      0.89      0.89       713\n",
            "           1       0.74      0.70      0.72       298\n",
            "\n",
            "    accuracy                           0.84      1011\n",
            "   macro avg       0.81      0.80      0.80      1011\n",
            "weighted avg       0.84      0.84      0.84      1011\n",
            "\n",
            "Confusion Matrix: [[638  75]\n",
            " [ 89 209]]\n"
          ]
        }
      ]
    },
    {
      "cell_type": "markdown",
      "source": [
        "**J. Mencari Parameter Terbaik dengan Grid Search**\n"
      ],
      "metadata": {
        "id": "WRpDys9hHwxx"
      }
    },
    {
      "cell_type": "code",
      "source": [
        "from sklearn.model_selection import GridSearchCV\n",
        "\n",
        "# defining parameter range\n",
        "param_grid = {'C': [0.1, 1, 10, 100, 1000],\n",
        " 'gamma': [1, 0.1, 0.01, 0.001, 0.0001],\n",
        " 'kernel': ['linear', 'rbf']}\n",
        "\n",
        "grid = GridSearchCV(svm.SVC(), param_grid, refit = True, verbose = 3)\n",
        "\n",
        "# fitting the model for grid search\n",
        "grid.fit(X_train_vectors_tfidf, y_train)\n"
      ],
      "metadata": {
        "colab": {
          "base_uri": "https://localhost:8080/"
        },
        "id": "OZLhi6i5H0NL",
        "outputId": "60e4fb8b-fc1d-46f1-c8c8-202fd00481ae"
      },
      "execution_count": null,
      "outputs": [
        {
          "output_type": "stream",
          "name": "stdout",
          "text": [
            "Fitting 5 folds for each of 50 candidates, totalling 250 fits\n",
            "[CV 1/5] END .....C=0.1, gamma=1, kernel=linear;, score=0.720 total time=   1.8s\n",
            "[CV 2/5] END .....C=0.1, gamma=1, kernel=linear;, score=0.717 total time=   2.3s\n",
            "[CV 3/5] END .....C=0.1, gamma=1, kernel=linear;, score=0.717 total time=   1.6s\n",
            "[CV 4/5] END .....C=0.1, gamma=1, kernel=linear;, score=0.713 total time=   2.2s\n",
            "[CV 5/5] END .....C=0.1, gamma=1, kernel=linear;, score=0.719 total time=   1.8s\n",
            "[CV 1/5] END ........C=0.1, gamma=1, kernel=rbf;, score=0.705 total time=   1.7s\n",
            "[CV 2/5] END ........C=0.1, gamma=1, kernel=rbf;, score=0.706 total time=   1.4s\n",
            "[CV 3/5] END ........C=0.1, gamma=1, kernel=rbf;, score=0.706 total time=   1.4s\n",
            "[CV 4/5] END ........C=0.1, gamma=1, kernel=rbf;, score=0.706 total time=   1.4s\n",
            "[CV 5/5] END ........C=0.1, gamma=1, kernel=rbf;, score=0.706 total time=   1.4s\n",
            "[CV 1/5] END ...C=0.1, gamma=0.1, kernel=linear;, score=0.720 total time=   1.1s\n",
            "[CV 2/5] END ...C=0.1, gamma=0.1, kernel=linear;, score=0.717 total time=   1.1s\n",
            "[CV 3/5] END ...C=0.1, gamma=0.1, kernel=linear;, score=0.717 total time=   1.1s\n",
            "[CV 4/5] END ...C=0.1, gamma=0.1, kernel=linear;, score=0.713 total time=   1.1s\n",
            "[CV 5/5] END ...C=0.1, gamma=0.1, kernel=linear;, score=0.719 total time=   1.1s\n",
            "[CV 1/5] END ......C=0.1, gamma=0.1, kernel=rbf;, score=0.705 total time=   1.2s\n",
            "[CV 2/5] END ......C=0.1, gamma=0.1, kernel=rbf;, score=0.706 total time=   1.2s\n",
            "[CV 3/5] END ......C=0.1, gamma=0.1, kernel=rbf;, score=0.706 total time=   1.2s\n",
            "[CV 4/5] END ......C=0.1, gamma=0.1, kernel=rbf;, score=0.706 total time=   1.2s\n",
            "[CV 5/5] END ......C=0.1, gamma=0.1, kernel=rbf;, score=0.706 total time=   1.2s\n",
            "[CV 1/5] END ..C=0.1, gamma=0.01, kernel=linear;, score=0.720 total time=   1.1s\n",
            "[CV 2/5] END ..C=0.1, gamma=0.01, kernel=linear;, score=0.717 total time=   1.1s\n",
            "[CV 3/5] END ..C=0.1, gamma=0.01, kernel=linear;, score=0.717 total time=   1.1s\n",
            "[CV 4/5] END ..C=0.1, gamma=0.01, kernel=linear;, score=0.713 total time=   1.1s\n",
            "[CV 5/5] END ..C=0.1, gamma=0.01, kernel=linear;, score=0.719 total time=   1.1s\n",
            "[CV 1/5] END .....C=0.1, gamma=0.01, kernel=rbf;, score=0.705 total time=   1.1s\n",
            "[CV 2/5] END .....C=0.1, gamma=0.01, kernel=rbf;, score=0.706 total time=   1.1s\n",
            "[CV 3/5] END .....C=0.1, gamma=0.01, kernel=rbf;, score=0.706 total time=   1.1s\n",
            "[CV 4/5] END .....C=0.1, gamma=0.01, kernel=rbf;, score=0.706 total time=   1.1s\n",
            "[CV 5/5] END .....C=0.1, gamma=0.01, kernel=rbf;, score=0.706 total time=   1.1s\n",
            "[CV 1/5] END .C=0.1, gamma=0.001, kernel=linear;, score=0.720 total time=   1.1s\n",
            "[CV 2/5] END .C=0.1, gamma=0.001, kernel=linear;, score=0.717 total time=   1.1s\n",
            "[CV 3/5] END .C=0.1, gamma=0.001, kernel=linear;, score=0.717 total time=   1.1s\n",
            "[CV 4/5] END .C=0.1, gamma=0.001, kernel=linear;, score=0.713 total time=   1.1s\n",
            "[CV 5/5] END .C=0.1, gamma=0.001, kernel=linear;, score=0.719 total time=   1.1s\n",
            "[CV 1/5] END ....C=0.1, gamma=0.001, kernel=rbf;, score=0.705 total time=   1.0s\n",
            "[CV 2/5] END ....C=0.1, gamma=0.001, kernel=rbf;, score=0.706 total time=   1.0s\n",
            "[CV 3/5] END ....C=0.1, gamma=0.001, kernel=rbf;, score=0.706 total time=   1.0s\n",
            "[CV 4/5] END ....C=0.1, gamma=0.001, kernel=rbf;, score=0.706 total time=   1.1s\n",
            "[CV 5/5] END ....C=0.1, gamma=0.001, kernel=rbf;, score=0.706 total time=   1.1s\n",
            "[CV 1/5] END C=0.1, gamma=0.0001, kernel=linear;, score=0.720 total time=   1.1s\n",
            "[CV 2/5] END C=0.1, gamma=0.0001, kernel=linear;, score=0.717 total time=   1.1s\n",
            "[CV 3/5] END C=0.1, gamma=0.0001, kernel=linear;, score=0.717 total time=   1.1s\n",
            "[CV 4/5] END C=0.1, gamma=0.0001, kernel=linear;, score=0.713 total time=   1.1s\n",
            "[CV 5/5] END C=0.1, gamma=0.0001, kernel=linear;, score=0.719 total time=   1.1s\n",
            "[CV 1/5] END ...C=0.1, gamma=0.0001, kernel=rbf;, score=0.705 total time=   1.0s\n",
            "[CV 2/5] END ...C=0.1, gamma=0.0001, kernel=rbf;, score=0.706 total time=   1.0s\n",
            "[CV 3/5] END ...C=0.1, gamma=0.0001, kernel=rbf;, score=0.706 total time=   1.0s\n",
            "[CV 4/5] END ...C=0.1, gamma=0.0001, kernel=rbf;, score=0.706 total time=   1.0s\n",
            "[CV 5/5] END ...C=0.1, gamma=0.0001, kernel=rbf;, score=0.706 total time=   1.0s\n",
            "[CV 1/5] END .......C=1, gamma=1, kernel=linear;, score=0.846 total time=   1.0s\n",
            "[CV 2/5] END .......C=1, gamma=1, kernel=linear;, score=0.837 total time=   1.1s\n",
            "[CV 3/5] END .......C=1, gamma=1, kernel=linear;, score=0.850 total time=   1.1s\n",
            "[CV 4/5] END .......C=1, gamma=1, kernel=linear;, score=0.839 total time=   1.0s\n",
            "[CV 5/5] END .......C=1, gamma=1, kernel=linear;, score=0.856 total time=   1.1s\n",
            "[CV 1/5] END ..........C=1, gamma=1, kernel=rbf;, score=0.815 total time=   1.6s\n",
            "[CV 2/5] END ..........C=1, gamma=1, kernel=rbf;, score=0.821 total time=   1.5s\n",
            "[CV 3/5] END ..........C=1, gamma=1, kernel=rbf;, score=0.828 total time=   1.5s\n",
            "[CV 4/5] END ..........C=1, gamma=1, kernel=rbf;, score=0.818 total time=   1.6s\n",
            "[CV 5/5] END ..........C=1, gamma=1, kernel=rbf;, score=0.828 total time=   1.5s\n",
            "[CV 1/5] END .....C=1, gamma=0.1, kernel=linear;, score=0.846 total time=   1.0s\n",
            "[CV 2/5] END .....C=1, gamma=0.1, kernel=linear;, score=0.837 total time=   2.1s\n",
            "[CV 3/5] END .....C=1, gamma=0.1, kernel=linear;, score=0.850 total time=   1.6s\n",
            "[CV 4/5] END .....C=1, gamma=0.1, kernel=linear;, score=0.839 total time=   1.1s\n",
            "[CV 5/5] END .....C=1, gamma=0.1, kernel=linear;, score=0.856 total time=   1.1s\n",
            "[CV 1/5] END ........C=1, gamma=0.1, kernel=rbf;, score=0.751 total time=   1.2s\n",
            "[CV 2/5] END ........C=1, gamma=0.1, kernel=rbf;, score=0.769 total time=   1.2s\n",
            "[CV 3/5] END ........C=1, gamma=0.1, kernel=rbf;, score=0.772 total time=   1.2s\n",
            "[CV 4/5] END ........C=1, gamma=0.1, kernel=rbf;, score=0.733 total time=   1.2s\n",
            "[CV 5/5] END ........C=1, gamma=0.1, kernel=rbf;, score=0.761 total time=   1.2s\n",
            "[CV 1/5] END ....C=1, gamma=0.01, kernel=linear;, score=0.846 total time=   1.1s\n",
            "[CV 2/5] END ....C=1, gamma=0.01, kernel=linear;, score=0.837 total time=   1.1s\n",
            "[CV 3/5] END ....C=1, gamma=0.01, kernel=linear;, score=0.850 total time=   1.1s\n",
            "[CV 4/5] END ....C=1, gamma=0.01, kernel=linear;, score=0.839 total time=   1.1s\n",
            "[CV 5/5] END ....C=1, gamma=0.01, kernel=linear;, score=0.856 total time=   1.1s\n",
            "[CV 1/5] END .......C=1, gamma=0.01, kernel=rbf;, score=0.705 total time=   1.2s\n",
            "[CV 2/5] END .......C=1, gamma=0.01, kernel=rbf;, score=0.706 total time=   1.2s\n",
            "[CV 3/5] END .......C=1, gamma=0.01, kernel=rbf;, score=0.706 total time=   1.2s\n",
            "[CV 4/5] END .......C=1, gamma=0.01, kernel=rbf;, score=0.706 total time=   1.2s\n",
            "[CV 5/5] END .......C=1, gamma=0.01, kernel=rbf;, score=0.706 total time=   1.2s\n",
            "[CV 1/5] END ...C=1, gamma=0.001, kernel=linear;, score=0.846 total time=   1.1s\n",
            "[CV 2/5] END ...C=1, gamma=0.001, kernel=linear;, score=0.837 total time=   1.1s\n",
            "[CV 3/5] END ...C=1, gamma=0.001, kernel=linear;, score=0.850 total time=   1.1s\n",
            "[CV 4/5] END ...C=1, gamma=0.001, kernel=linear;, score=0.839 total time=   1.1s\n",
            "[CV 5/5] END ...C=1, gamma=0.001, kernel=linear;, score=0.856 total time=   1.1s\n",
            "[CV 1/5] END ......C=1, gamma=0.001, kernel=rbf;, score=0.705 total time=   1.1s\n",
            "[CV 2/5] END ......C=1, gamma=0.001, kernel=rbf;, score=0.706 total time=   1.1s\n",
            "[CV 3/5] END ......C=1, gamma=0.001, kernel=rbf;, score=0.706 total time=   1.1s\n",
            "[CV 4/5] END ......C=1, gamma=0.001, kernel=rbf;, score=0.706 total time=   1.1s\n",
            "[CV 5/5] END ......C=1, gamma=0.001, kernel=rbf;, score=0.706 total time=   1.2s\n",
            "[CV 1/5] END ..C=1, gamma=0.0001, kernel=linear;, score=0.846 total time=   1.1s\n",
            "[CV 2/5] END ..C=1, gamma=0.0001, kernel=linear;, score=0.837 total time=   1.1s\n",
            "[CV 3/5] END ..C=1, gamma=0.0001, kernel=linear;, score=0.850 total time=   1.1s\n",
            "[CV 4/5] END ..C=1, gamma=0.0001, kernel=linear;, score=0.839 total time=   1.1s\n",
            "[CV 5/5] END ..C=1, gamma=0.0001, kernel=linear;, score=0.856 total time=   1.1s\n",
            "[CV 1/5] END .....C=1, gamma=0.0001, kernel=rbf;, score=0.705 total time=   1.0s\n",
            "[CV 2/5] END .....C=1, gamma=0.0001, kernel=rbf;, score=0.706 total time=   1.0s\n",
            "[CV 3/5] END .....C=1, gamma=0.0001, kernel=rbf;, score=0.706 total time=   1.0s\n",
            "[CV 4/5] END .....C=1, gamma=0.0001, kernel=rbf;, score=0.706 total time=   1.0s\n",
            "[CV 5/5] END .....C=1, gamma=0.0001, kernel=rbf;, score=0.706 total time=   1.1s\n",
            "[CV 1/5] END ......C=10, gamma=1, kernel=linear;, score=0.834 total time=   1.3s\n",
            "[CV 2/5] END ......C=10, gamma=1, kernel=linear;, score=0.835 total time=   1.3s\n",
            "[CV 3/5] END ......C=10, gamma=1, kernel=linear;, score=0.839 total time=   1.3s\n",
            "[CV 4/5] END ......C=10, gamma=1, kernel=linear;, score=0.850 total time=   1.3s\n",
            "[CV 5/5] END ......C=10, gamma=1, kernel=linear;, score=0.839 total time=   1.3s\n",
            "[CV 1/5] END .........C=10, gamma=1, kernel=rbf;, score=0.839 total time=   1.7s\n",
            "[CV 2/5] END .........C=10, gamma=1, kernel=rbf;, score=0.838 total time=   1.7s\n",
            "[CV 3/5] END .........C=10, gamma=1, kernel=rbf;, score=0.841 total time=   1.7s\n",
            "[CV 4/5] END .........C=10, gamma=1, kernel=rbf;, score=0.835 total time=   1.7s\n",
            "[CV 5/5] END .........C=10, gamma=1, kernel=rbf;, score=0.853 total time=   1.7s\n",
            "[CV 1/5] END ....C=10, gamma=0.1, kernel=linear;, score=0.834 total time=   1.3s\n",
            "[CV 2/5] END ....C=10, gamma=0.1, kernel=linear;, score=0.835 total time=   1.4s\n",
            "[CV 3/5] END ....C=10, gamma=0.1, kernel=linear;, score=0.839 total time=   1.3s\n",
            "[CV 4/5] END ....C=10, gamma=0.1, kernel=linear;, score=0.850 total time=   1.3s\n",
            "[CV 5/5] END ....C=10, gamma=0.1, kernel=linear;, score=0.839 total time=   1.3s\n",
            "[CV 1/5] END .......C=10, gamma=0.1, kernel=rbf;, score=0.849 total time=   1.4s\n",
            "[CV 2/5] END .......C=10, gamma=0.1, kernel=rbf;, score=0.842 total time=   1.4s\n",
            "[CV 3/5] END .......C=10, gamma=0.1, kernel=rbf;, score=0.848 total time=   1.4s\n",
            "[CV 4/5] END .......C=10, gamma=0.1, kernel=rbf;, score=0.856 total time=   1.4s\n",
            "[CV 5/5] END .......C=10, gamma=0.1, kernel=rbf;, score=0.868 total time=   1.5s\n",
            "[CV 1/5] END ...C=10, gamma=0.01, kernel=linear;, score=0.834 total time=   1.3s\n",
            "[CV 2/5] END ...C=10, gamma=0.01, kernel=linear;, score=0.835 total time=   1.3s\n",
            "[CV 3/5] END ...C=10, gamma=0.01, kernel=linear;, score=0.839 total time=   1.3s\n",
            "[CV 4/5] END ...C=10, gamma=0.01, kernel=linear;, score=0.850 total time=   1.4s\n",
            "[CV 5/5] END ...C=10, gamma=0.01, kernel=linear;, score=0.839 total time=   1.3s\n",
            "[CV 1/5] END ......C=10, gamma=0.01, kernel=rbf;, score=0.760 total time=   1.2s\n",
            "[CV 2/5] END ......C=10, gamma=0.01, kernel=rbf;, score=0.782 total time=   1.2s\n",
            "[CV 3/5] END ......C=10, gamma=0.01, kernel=rbf;, score=0.777 total time=   1.2s\n",
            "[CV 4/5] END ......C=10, gamma=0.01, kernel=rbf;, score=0.751 total time=   1.2s\n",
            "[CV 5/5] END ......C=10, gamma=0.01, kernel=rbf;, score=0.769 total time=   1.2s\n",
            "[CV 1/5] END ..C=10, gamma=0.001, kernel=linear;, score=0.834 total time=   1.4s\n",
            "[CV 2/5] END ..C=10, gamma=0.001, kernel=linear;, score=0.835 total time=   1.3s\n",
            "[CV 3/5] END ..C=10, gamma=0.001, kernel=linear;, score=0.839 total time=   1.3s\n",
            "[CV 4/5] END ..C=10, gamma=0.001, kernel=linear;, score=0.850 total time=   1.3s\n",
            "[CV 5/5] END ..C=10, gamma=0.001, kernel=linear;, score=0.839 total time=   1.3s\n",
            "[CV 1/5] END .....C=10, gamma=0.001, kernel=rbf;, score=0.705 total time=   1.2s\n",
            "[CV 2/5] END .....C=10, gamma=0.001, kernel=rbf;, score=0.706 total time=   1.7s\n",
            "[CV 3/5] END .....C=10, gamma=0.001, kernel=rbf;, score=0.706 total time=   1.2s\n",
            "[CV 4/5] END .....C=10, gamma=0.001, kernel=rbf;, score=0.706 total time=   1.2s\n",
            "[CV 5/5] END .....C=10, gamma=0.001, kernel=rbf;, score=0.706 total time=   1.2s\n",
            "[CV 1/5] END .C=10, gamma=0.0001, kernel=linear;, score=0.834 total time=   1.3s\n",
            "[CV 2/5] END .C=10, gamma=0.0001, kernel=linear;, score=0.835 total time=   1.3s\n",
            "[CV 3/5] END .C=10, gamma=0.0001, kernel=linear;, score=0.839 total time=   1.3s\n",
            "[CV 4/5] END .C=10, gamma=0.0001, kernel=linear;, score=0.850 total time=   1.3s\n",
            "[CV 5/5] END .C=10, gamma=0.0001, kernel=linear;, score=0.839 total time=   1.3s\n",
            "[CV 1/5] END ....C=10, gamma=0.0001, kernel=rbf;, score=0.705 total time=   1.1s\n",
            "[CV 2/5] END ....C=10, gamma=0.0001, kernel=rbf;, score=0.706 total time=   1.1s\n",
            "[CV 3/5] END ....C=10, gamma=0.0001, kernel=rbf;, score=0.706 total time=   1.1s\n",
            "[CV 4/5] END ....C=10, gamma=0.0001, kernel=rbf;, score=0.706 total time=   1.1s\n",
            "[CV 5/5] END ....C=10, gamma=0.0001, kernel=rbf;, score=0.706 total time=   1.2s\n",
            "[CV 1/5] END .....C=100, gamma=1, kernel=linear;, score=0.837 total time=   1.3s\n",
            "[CV 2/5] END .....C=100, gamma=1, kernel=linear;, score=0.838 total time=   1.3s\n",
            "[CV 3/5] END .....C=100, gamma=1, kernel=linear;, score=0.837 total time=   1.4s\n",
            "[CV 4/5] END .....C=100, gamma=1, kernel=linear;, score=0.847 total time=   1.3s\n",
            "[CV 5/5] END .....C=100, gamma=1, kernel=linear;, score=0.831 total time=   1.4s\n",
            "[CV 1/5] END ........C=100, gamma=1, kernel=rbf;, score=0.839 total time=   1.6s\n",
            "[CV 2/5] END ........C=100, gamma=1, kernel=rbf;, score=0.838 total time=   1.6s\n",
            "[CV 3/5] END ........C=100, gamma=1, kernel=rbf;, score=0.841 total time=   1.6s\n",
            "[CV 4/5] END ........C=100, gamma=1, kernel=rbf;, score=0.835 total time=   1.6s\n",
            "[CV 5/5] END ........C=100, gamma=1, kernel=rbf;, score=0.853 total time=   1.7s\n",
            "[CV 1/5] END ...C=100, gamma=0.1, kernel=linear;, score=0.837 total time=   1.3s\n",
            "[CV 2/5] END ...C=100, gamma=0.1, kernel=linear;, score=0.838 total time=   1.3s\n",
            "[CV 3/5] END ...C=100, gamma=0.1, kernel=linear;, score=0.837 total time=   1.3s\n",
            "[CV 4/5] END ...C=100, gamma=0.1, kernel=linear;, score=0.847 total time=   1.3s\n",
            "[CV 5/5] END ...C=100, gamma=0.1, kernel=linear;, score=0.831 total time=   1.3s\n",
            "[CV 1/5] END ......C=100, gamma=0.1, kernel=rbf;, score=0.839 total time=   1.5s\n",
            "[CV 2/5] END ......C=100, gamma=0.1, kernel=rbf;, score=0.839 total time=   1.5s\n",
            "[CV 3/5] END ......C=100, gamma=0.1, kernel=rbf;, score=0.852 total time=   1.5s\n",
            "[CV 4/5] END ......C=100, gamma=0.1, kernel=rbf;, score=0.856 total time=   1.4s\n",
            "[CV 5/5] END ......C=100, gamma=0.1, kernel=rbf;, score=0.849 total time=   1.4s\n",
            "[CV 1/5] END ..C=100, gamma=0.01, kernel=linear;, score=0.837 total time=   1.3s\n",
            "[CV 2/5] END ..C=100, gamma=0.01, kernel=linear;, score=0.838 total time=   1.3s\n",
            "[CV 3/5] END ..C=100, gamma=0.01, kernel=linear;, score=0.837 total time=   1.3s\n",
            "[CV 4/5] END ..C=100, gamma=0.01, kernel=linear;, score=0.847 total time=   1.3s\n",
            "[CV 5/5] END ..C=100, gamma=0.01, kernel=linear;, score=0.831 total time=   1.4s\n",
            "[CV 1/5] END .....C=100, gamma=0.01, kernel=rbf;, score=0.845 total time=   1.8s\n",
            "[CV 2/5] END .....C=100, gamma=0.01, kernel=rbf;, score=0.842 total time=   1.4s\n",
            "[CV 3/5] END .....C=100, gamma=0.01, kernel=rbf;, score=0.848 total time=   1.4s\n",
            "[CV 4/5] END .....C=100, gamma=0.01, kernel=rbf;, score=0.856 total time=   1.4s\n",
            "[CV 5/5] END .....C=100, gamma=0.01, kernel=rbf;, score=0.867 total time=   1.4s\n",
            "[CV 1/5] END .C=100, gamma=0.001, kernel=linear;, score=0.837 total time=   1.3s\n",
            "[CV 2/5] END .C=100, gamma=0.001, kernel=linear;, score=0.838 total time=   1.3s\n",
            "[CV 3/5] END .C=100, gamma=0.001, kernel=linear;, score=0.837 total time=   1.3s\n",
            "[CV 4/5] END .C=100, gamma=0.001, kernel=linear;, score=0.847 total time=   1.3s\n",
            "[CV 5/5] END .C=100, gamma=0.001, kernel=linear;, score=0.831 total time=   1.3s\n",
            "[CV 1/5] END ....C=100, gamma=0.001, kernel=rbf;, score=0.764 total time=   1.2s\n",
            "[CV 2/5] END ....C=100, gamma=0.001, kernel=rbf;, score=0.782 total time=   1.2s\n",
            "[CV 3/5] END ....C=100, gamma=0.001, kernel=rbf;, score=0.780 total time=   1.2s\n",
            "[CV 4/5] END ....C=100, gamma=0.001, kernel=rbf;, score=0.751 total time=   1.2s\n",
            "[CV 5/5] END ....C=100, gamma=0.001, kernel=rbf;, score=0.769 total time=   1.2s\n",
            "[CV 1/5] END C=100, gamma=0.0001, kernel=linear;, score=0.837 total time=   1.3s\n",
            "[CV 2/5] END C=100, gamma=0.0001, kernel=linear;, score=0.838 total time=   1.3s\n",
            "[CV 3/5] END C=100, gamma=0.0001, kernel=linear;, score=0.837 total time=   1.3s\n",
            "[CV 4/5] END C=100, gamma=0.0001, kernel=linear;, score=0.847 total time=   1.3s\n",
            "[CV 5/5] END C=100, gamma=0.0001, kernel=linear;, score=0.831 total time=   1.3s\n",
            "[CV 1/5] END ...C=100, gamma=0.0001, kernel=rbf;, score=0.705 total time=   1.2s\n",
            "[CV 2/5] END ...C=100, gamma=0.0001, kernel=rbf;, score=0.706 total time=   1.2s\n",
            "[CV 3/5] END ...C=100, gamma=0.0001, kernel=rbf;, score=0.706 total time=   1.2s\n",
            "[CV 4/5] END ...C=100, gamma=0.0001, kernel=rbf;, score=0.706 total time=   1.2s\n",
            "[CV 5/5] END ...C=100, gamma=0.0001, kernel=rbf;, score=0.706 total time=   1.2s\n",
            "[CV 1/5] END ....C=1000, gamma=1, kernel=linear;, score=0.837 total time=   1.3s\n",
            "[CV 2/5] END ....C=1000, gamma=1, kernel=linear;, score=0.838 total time=   1.3s\n",
            "[CV 3/5] END ....C=1000, gamma=1, kernel=linear;, score=0.837 total time=   1.3s\n",
            "[CV 4/5] END ....C=1000, gamma=1, kernel=linear;, score=0.847 total time=   1.3s\n",
            "[CV 5/5] END ....C=1000, gamma=1, kernel=linear;, score=0.831 total time=   1.3s\n",
            "[CV 1/5] END .......C=1000, gamma=1, kernel=rbf;, score=0.839 total time=   1.6s\n",
            "[CV 2/5] END .......C=1000, gamma=1, kernel=rbf;, score=0.838 total time=   1.6s\n",
            "[CV 3/5] END .......C=1000, gamma=1, kernel=rbf;, score=0.841 total time=   1.6s\n",
            "[CV 4/5] END .......C=1000, gamma=1, kernel=rbf;, score=0.835 total time=   1.7s\n",
            "[CV 5/5] END .......C=1000, gamma=1, kernel=rbf;, score=0.853 total time=   1.7s\n",
            "[CV 1/5] END ..C=1000, gamma=0.1, kernel=linear;, score=0.837 total time=   1.3s\n",
            "[CV 2/5] END ..C=1000, gamma=0.1, kernel=linear;, score=0.838 total time=   1.3s\n",
            "[CV 3/5] END ..C=1000, gamma=0.1, kernel=linear;, score=0.837 total time=   1.3s\n",
            "[CV 4/5] END ..C=1000, gamma=0.1, kernel=linear;, score=0.847 total time=   1.3s\n",
            "[CV 5/5] END ..C=1000, gamma=0.1, kernel=linear;, score=0.831 total time=   1.3s\n",
            "[CV 1/5] END .....C=1000, gamma=0.1, kernel=rbf;, score=0.839 total time=   1.4s\n",
            "[CV 2/5] END .....C=1000, gamma=0.1, kernel=rbf;, score=0.843 total time=   1.4s\n",
            "[CV 3/5] END .....C=1000, gamma=0.1, kernel=rbf;, score=0.849 total time=   1.4s\n",
            "[CV 4/5] END .....C=1000, gamma=0.1, kernel=rbf;, score=0.856 total time=   1.5s\n",
            "[CV 5/5] END .....C=1000, gamma=0.1, kernel=rbf;, score=0.847 total time=   1.5s\n",
            "[CV 1/5] END .C=1000, gamma=0.01, kernel=linear;, score=0.837 total time=   1.3s\n",
            "[CV 2/5] END .C=1000, gamma=0.01, kernel=linear;, score=0.838 total time=   1.3s\n",
            "[CV 3/5] END .C=1000, gamma=0.01, kernel=linear;, score=0.837 total time=   1.3s\n",
            "[CV 4/5] END .C=1000, gamma=0.01, kernel=linear;, score=0.847 total time=   1.3s\n",
            "[CV 5/5] END .C=1000, gamma=0.01, kernel=linear;, score=0.831 total time=   1.3s\n",
            "[CV 1/5] END ....C=1000, gamma=0.01, kernel=rbf;, score=0.835 total time=   1.4s\n",
            "[CV 2/5] END ....C=1000, gamma=0.01, kernel=rbf;, score=0.841 total time=   1.4s\n",
            "[CV 3/5] END ....C=1000, gamma=0.01, kernel=rbf;, score=0.837 total time=   1.4s\n",
            "[CV 4/5] END ....C=1000, gamma=0.01, kernel=rbf;, score=0.849 total time=   1.4s\n",
            "[CV 5/5] END ....C=1000, gamma=0.01, kernel=rbf;, score=0.828 total time=   1.4s\n",
            "[CV 1/5] END C=1000, gamma=0.001, kernel=linear;, score=0.837 total time=   1.3s\n",
            "[CV 2/5] END C=1000, gamma=0.001, kernel=linear;, score=0.838 total time=   1.3s\n",
            "[CV 3/5] END C=1000, gamma=0.001, kernel=linear;, score=0.837 total time=   1.3s\n",
            "[CV 4/5] END C=1000, gamma=0.001, kernel=linear;, score=0.847 total time=   1.3s\n",
            "[CV 5/5] END C=1000, gamma=0.001, kernel=linear;, score=0.831 total time=   1.3s\n",
            "[CV 1/5] END ...C=1000, gamma=0.001, kernel=rbf;, score=0.845 total time=   1.1s\n",
            "[CV 2/5] END ...C=1000, gamma=0.001, kernel=rbf;, score=0.842 total time=   1.4s\n",
            "[CV 3/5] END ...C=1000, gamma=0.001, kernel=rbf;, score=0.848 total time=   1.4s\n",
            "[CV 4/5] END ...C=1000, gamma=0.001, kernel=rbf;, score=0.856 total time=   1.4s\n",
            "[CV 5/5] END ...C=1000, gamma=0.001, kernel=rbf;, score=0.867 total time=   1.4s\n",
            "[CV 1/5] END C=1000, gamma=0.0001, kernel=linear;, score=0.837 total time=   1.3s\n",
            "[CV 2/5] END C=1000, gamma=0.0001, kernel=linear;, score=0.838 total time=   1.3s\n",
            "[CV 3/5] END C=1000, gamma=0.0001, kernel=linear;, score=0.837 total time=   1.3s\n",
            "[CV 4/5] END C=1000, gamma=0.0001, kernel=linear;, score=0.847 total time=   1.4s\n",
            "[CV 5/5] END C=1000, gamma=0.0001, kernel=linear;, score=0.831 total time=   1.3s\n",
            "[CV 1/5] END ..C=1000, gamma=0.0001, kernel=rbf;, score=0.764 total time=   1.2s\n",
            "[CV 2/5] END ..C=1000, gamma=0.0001, kernel=rbf;, score=0.782 total time=   1.2s\n",
            "[CV 3/5] END ..C=1000, gamma=0.0001, kernel=rbf;, score=0.780 total time=   1.2s\n",
            "[CV 4/5] END ..C=1000, gamma=0.0001, kernel=rbf;, score=0.751 total time=   1.2s\n",
            "[CV 5/5] END ..C=1000, gamma=0.0001, kernel=rbf;, score=0.769 total time=   1.2s\n"
          ]
        },
        {
          "output_type": "execute_result",
          "data": {
            "text/plain": [
              "GridSearchCV(estimator=SVC(),\n",
              "             param_grid={'C': [0.1, 1, 10, 100, 1000],\n",
              "                         'gamma': [1, 0.1, 0.01, 0.001, 0.0001],\n",
              "                         'kernel': ['linear', 'rbf']},\n",
              "             verbose=3)"
            ]
          },
          "metadata": {},
          "execution_count": 25
        }
      ]
    },
    {
      "cell_type": "code",
      "source": [
        "#Parameter terbaik hasil percobaan dengan Grid Search didapatkan dengan:\n",
        "# print best parameter after tuning\n",
        "print(\"best parameter: \",grid.best_params_)\n",
        "\n",
        "# print how our model looks after hyper-parameter tuning\n",
        "print(\"best estimator: \", grid.best_estimator_) "
      ],
      "metadata": {
        "colab": {
          "base_uri": "https://localhost:8080/"
        },
        "id": "m8b7IztrH3pc",
        "outputId": "87da5d14-d128-4643-e893-245773ed5d29"
      },
      "execution_count": null,
      "outputs": [
        {
          "output_type": "stream",
          "name": "stdout",
          "text": [
            "best parameter:  {'C': 10, 'gamma': 0.1, 'kernel': 'rbf'}\n",
            "best estimator:  SVC(C=10, gamma=0.1)\n"
          ]
        }
      ]
    },
    {
      "cell_type": "markdown",
      "source": [
        "Selanjutnya, prediksi menggunakan parameter terbaik dapat dilakukan dengan kode berikut."
      ],
      "metadata": {
        "id": "EJqeIg56H9zb"
      }
    },
    {
      "cell_type": "code",
      "source": [
        "grid_predictions = grid.predict(X_test_vectors_tfidf)\n",
        "print(classification_report(y_test,grid_predictions))\n",
        "print('Confusion Matrix:',confusion_matrix(y_test, grid_predictions))"
      ],
      "metadata": {
        "colab": {
          "base_uri": "https://localhost:8080/"
        },
        "id": "7iJuspc4H_0T",
        "outputId": "8726cb41-242a-4475-fbe7-70b9def13a83"
      },
      "execution_count": null,
      "outputs": [
        {
          "output_type": "stream",
          "name": "stdout",
          "text": [
            "              precision    recall  f1-score   support\n",
            "\n",
            "           0       0.89      0.88      0.88       713\n",
            "           1       0.71      0.74      0.73       298\n",
            "\n",
            "    accuracy                           0.84      1011\n",
            "   macro avg       0.80      0.81      0.80      1011\n",
            "weighted avg       0.84      0.84      0.84      1011\n",
            "\n",
            "Confusion Matrix: [[624  89]\n",
            " [ 77 221]]\n"
          ]
        }
      ]
    },
    {
      "cell_type": "markdown",
      "source": [
        "**E. Menggunakan k-Fold Cross Validation**\n",
        "\n",
        "Jika data yang dimiliki terdapat indikasi imbalanced, maka dapat menggunakan k-fold cross validation \n",
        "agar hasil evaluasi yang ditampilkan lebih mewakili keseluruhan data. \n",
        "Karena dataset yang Anda gunakan sebelumnya telah dibagi menjadi data training dan testing, maka \n",
        "gabungkan terlebih dahulu data tersebut dengan melakukan concat, baru kemudian melakukan cross \n",
        "validation terhadap keseluruhan data."
      ],
      "metadata": {
        "id": "HKcqoar6qxkn"
      }
    },
    {
      "cell_type": "code",
      "source": [
        "X_join = pd.concat([X_train, X_test])\n",
        "y_join = pd.concat([y_train, y_test])\n",
        "X_join_vectors_tfidf = tfidf_vectorizer.transform(X_join)"
      ],
      "metadata": {
        "id": "fipQi4qGqxBF"
      },
      "execution_count": null,
      "outputs": []
    },
    {
      "cell_type": "code",
      "source": [
        "from sklearn.model_selection import cross_val_score, cross_val_predict,  cross_validate\n",
        "scores = cross_validate(nb_tfidf, X_join_vectors_tfidf, y_join, cv=5, scoring=('accuracy', 'f1'), return_train_score=True)\n",
        "predictions = cross_val_predict(nb_tfidf, X_join_vectors_tfidf, y_join, \n",
        "cv=5)\n",
        "print(scores)"
      ],
      "metadata": {
        "colab": {
          "base_uri": "https://localhost:8080/"
        },
        "id": "EYL7teZFrDA9",
        "outputId": "89a512a3-16b5-4fe4-f892-24eae28f0244"
      },
      "execution_count": null,
      "outputs": [
        {
          "output_type": "stream",
          "name": "stdout",
          "text": [
            "{'fit_time': array([0.00546932, 0.00248551, 0.00255132, 0.00240159, 0.00241899]), 'score_time': array([0.00182343, 0.00166011, 0.00166917, 0.00156546, 0.00156522]), 'test_accuracy': array([0.81290323, 0.80860215, 0.82150538, 0.81397849, 0.79440258]), 'train_accuracy': array([0.87442861, 0.87335305, 0.87415972, 0.87684862, 0.88602151]), 'test_f1': array([0.57971014, 0.57819905, 0.59708738, 0.57907543, 0.52605459]), 'train_f1': array([0.73749297, 0.73583847, 0.73589165, 0.74065685, 0.76779847])}\n"
          ]
        }
      ]
    },
    {
      "cell_type": "code",
      "source": [
        "print(classification_report(y_join,predictions))\n",
        "print('Confusion Matrix:',confusion_matrix(y_join, predictions))"
      ],
      "metadata": {
        "colab": {
          "base_uri": "https://localhost:8080/"
        },
        "id": "me_2aYLjvwRc",
        "outputId": "ee070cb7-159f-4577-fe9c-13b565695d3d"
      },
      "execution_count": null,
      "outputs": [
        {
          "output_type": "stream",
          "name": "stdout",
          "text": [
            "              precision    recall  f1-score   support\n",
            "\n",
            "           0       0.80      0.97      0.88      3280\n",
            "           1       0.85      0.43      0.57      1369\n",
            "\n",
            "    accuracy                           0.81      4649\n",
            "   macro avg       0.83      0.70      0.73      4649\n",
            "weighted avg       0.82      0.81      0.79      4649\n",
            "\n",
            "Confusion Matrix: [[3177  103]\n",
            " [ 779  590]]\n"
          ]
        }
      ]
    },
    {
      "cell_type": "code",
      "source": [
        "import statistics"
      ],
      "metadata": {
        "id": "L3uwkGP2ccUF"
      },
      "execution_count": null,
      "outputs": []
    },
    {
      "cell_type": "code",
      "source": [
        "print(\"Bayes\")\n",
        "print(classification_report(y_test,y_predict_bayes))\n",
        "print('Confusion Matrix:',confusion_matrix(y_test, y_predict_bayes))\n",
        "print(\"\\n\")\n",
        "print(\"Rocchio\")\n",
        "print(classification_report(y_test,y_predict_rocchio))\n",
        "print('Confusion Matrix:',confusion_matrix(y_test, y_predict_rocchio))\n",
        "print(\"\\n\")\n",
        "print(\"KNN\")\n",
        "print(classification_report(y_test,y_predict_knn))\n",
        "print('Confusion Matrix:',confusion_matrix(y_test, y_predict_knn))\n",
        "print(\"\\n\")\n",
        "print(\"SVM\")\n",
        "print(classification_report(y_test,y_predict_svm))\n",
        "print('Confusion Matrix:',confusion_matrix(y_test, y_predict_svm))\n",
        "print(\"\\n\")\n",
        "print(\"K-fold\")\n",
        "avg_f1= statistics.mean(scores[\"test_f1\"])\n",
        "print(\"Average F-1 score of 5 iterations: \", avg_f1)\n",
        "print('Confusion Matrix:',confusion_matrix(y_join, predictions))"
      ],
      "metadata": {
        "colab": {
          "base_uri": "https://localhost:8080/"
        },
        "id": "TmWzVtISW19u",
        "outputId": "028e5287-737f-457e-8a98-c59cf94a624f"
      },
      "execution_count": null,
      "outputs": [
        {
          "output_type": "stream",
          "name": "stdout",
          "text": [
            "Bayes\n",
            "              precision    recall  f1-score   support\n",
            "\n",
            "           0       0.79      0.96      0.87       713\n",
            "           1       0.80      0.39      0.52       298\n",
            "\n",
            "    accuracy                           0.79      1011\n",
            "   macro avg       0.80      0.67      0.69      1011\n",
            "weighted avg       0.79      0.79      0.76      1011\n",
            "\n",
            "Confusion Matrix: [[685  28]\n",
            " [183 115]]\n",
            "\n",
            "\n",
            "Rocchio\n",
            "              precision    recall  f1-score   support\n",
            "\n",
            "           0       0.89      0.58      0.70       713\n",
            "           1       0.45      0.84      0.59       298\n",
            "\n",
            "    accuracy                           0.66      1011\n",
            "   macro avg       0.67      0.71      0.65      1011\n",
            "weighted avg       0.76      0.66      0.67      1011\n",
            "\n",
            "Confusion Matrix: [[414 299]\n",
            " [ 49 249]]\n",
            "\n",
            "\n",
            "KNN\n",
            "              precision    recall  f1-score   support\n",
            "\n",
            "           0       0.86      0.90      0.88       713\n",
            "           1       0.73      0.66      0.69       298\n",
            "\n",
            "    accuracy                           0.83      1011\n",
            "   macro avg       0.79      0.78      0.78      1011\n",
            "weighted avg       0.82      0.83      0.82      1011\n",
            "\n",
            "Confusion Matrix: [[639  74]\n",
            " [102 196]]\n",
            "\n",
            "\n",
            "SVM\n",
            "              precision    recall  f1-score   support\n",
            "\n",
            "           0       0.88      0.89      0.89       713\n",
            "           1       0.74      0.70      0.72       298\n",
            "\n",
            "    accuracy                           0.84      1011\n",
            "   macro avg       0.81      0.80      0.80      1011\n",
            "weighted avg       0.84      0.84      0.84      1011\n",
            "\n",
            "Confusion Matrix: [[638  75]\n",
            " [ 89 209]]\n",
            "\n",
            "\n",
            "K-fold\n",
            "Average F-1 score of 5 iterations:  0.5720253184124976\n",
            "Confusion Matrix: [[3177  103]\n",
            " [ 779  590]]\n"
          ]
        }
      ]
    },
    {
      "cell_type": "markdown",
      "source": [
        "# New Section"
      ],
      "metadata": {
        "id": "qYM_xMANghZg"
      }
    },
    {
      "cell_type": "markdown",
      "source": [
        "**Interpretasi**\n",
        "\n",
        "Berdasarkan model yang ditetapkan yaitu:\n",
        "\n",
        "1. Naive Bayes\n",
        "2. Rocchio Classification\n",
        "3. kNN \n",
        "4. SVM\n",
        "5. K-Fold\n",
        "\n",
        "Dengan menggunakan F-1 Score untuk membandingkan tiap metode, maka didapatkan F-1 Score tertinggi adalah SVM untuk kelas-kelas yang ditetapkan."
      ],
      "metadata": {
        "id": "HKhdzmVGdZaY"
      }
    }
  ]
}